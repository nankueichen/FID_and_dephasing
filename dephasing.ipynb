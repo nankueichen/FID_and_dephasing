{
 "cells": [
  {
   "cell_type": "markdown",
   "metadata": {
    "tags": []
   },
   "source": [
    "# Simulation of intravoxel dephasing effect in T2*-weighted MRI"
   ]
  },
  {
   "cell_type": "markdown",
   "metadata": {},
   "source": [
    "![image](fig_dephasing.png)"
   ]
  },
  {
   "attachments": {},
   "cell_type": "markdown",
   "metadata": {},
   "source": [
    "## The simulation would be based on Block equation: \n",
    "\n",
    "![image](Block_equation.svg)"
   ]
  },
  {
   "cell_type": "markdown",
   "metadata": {},
   "source": [
    "## Precession of a magnetization vector\n",
    "$$M_x(t) = M_x(0)\\cos\\omega t + M_y(0)\\sin\\omega t$$\n",
    "\n",
    "$$M_y(t) = M_y(0)\\cos\\omega t - M_x(0)\\sin\\omega t$$"
   ]
  },
  {
   "cell_type": "code",
   "execution_count": 1,
   "metadata": {},
   "outputs": [],
   "source": [
    "Mx0 = 1;\n",
    "My0 = 0;\n",
    "ω = 42.58e6; # Hz\n",
    "time_per_cycle = 1/ω; # sec\n",
    "time_array = time_per_cycle/20:time_per_cycle/20:time_per_cycle; \n",
    "time_array = Array(time_array);\n",
    "Mx = Mx0*cos.(2π*ω*time_array) + My0*sin.(2π*ω*time_array);\n",
    "My = My0*cos.(2π*ω*time_array) - Mx0*sin.(2π*ω*time_array);\n"
   ]
  },
  {
   "cell_type": "code",
   "execution_count": 2,
   "metadata": {},
   "outputs": [],
   "source": [
    "using PyPlot # may need to add the package first"
   ]
  },
  {
   "cell_type": "code",
   "execution_count": 4,
   "metadata": {},
   "outputs": [],
   "source": [
    "figure(1 ,figsize = (4,3)); plot(Mx,\"o-\");\n",
    "figure(2, figsize = (4,3)); plot(My,\"o-\");\n"
   ]
  },
  {
   "cell_type": "code",
   "execution_count": 5,
   "metadata": {},
   "outputs": [],
   "source": [
    "figure(1,figsize=(20,2));quiver(1:length(time_array), ones(length(time_array)), Mx, My, color=\"blue\");\n"
   ]
  },
  {
   "cell_type": "markdown",
   "metadata": {},
   "source": [
    "#### Exercise: Plot the magnetization vector during the time it takes to precess 4 cycles"
   ]
  },
  {
   "cell_type": "markdown",
   "metadata": {},
   "source": [
    "## Complex value representation of magnetization vectors"
   ]
  },
  {
   "cell_type": "code",
   "execution_count": 6,
   "metadata": {},
   "outputs": [],
   "source": [
    "i = complex(0,1);\n",
    "M0 = 1 + 0i;\n",
    "ω = 42.58e6; # Hz\n",
    "time_per_cycle = 1/ω; # sec\n",
    "time_array = time_per_cycle/20:time_per_cycle/20:time_per_cycle; \n",
    "time_array = Array(time_array);\n",
    "M = exp.(-i*2π*ω*time_array);"
   ]
  },
  {
   "cell_type": "code",
   "execution_count": 7,
   "metadata": {},
   "outputs": [],
   "source": [
    "figure(1 ,figsize = (4,3)); plot(real.(M),\"o-\");\n",
    "figure(2, figsize = (4,3)); plot(imag.(M),\"o-\");"
   ]
  },
  {
   "cell_type": "code",
   "execution_count": 8,
   "metadata": {},
   "outputs": [],
   "source": [
    "figure(1,figsize=(20,2));quiver(1:length(time_array), ones(length(time_array)), real.(M), imag.(M), color=\"blue\");"
   ]
  },
  {
   "cell_type": "markdown",
   "metadata": {},
   "source": [
    "#### Exercise: What if the initial magnetization vector $M(0)$ is not along the x-axis?"
   ]
  },
  {
   "cell_type": "markdown",
   "metadata": {},
   "source": [
    "## Simulating MR signal acquisition: free induction decay (FID)\n",
    "* The signals we receive, at any time point after an RF pulse excitation, will be the summation of all the magnetization vectors\n",
    "* The 10240 data points we acquire at time = 1 to 10240 $\\mu sec$, from a phantom comprising 10 isochromatic units, are $$ S(t) = \\sum_{n=1}^{10} phantom[n] \\ \\cdot \\exp(i2\\pi \\omega t) \\cdot \\exp(-\\frac{t}{T_2}) \\\\ \\textrm{with} \\ \\ t = 1 \\    \\textrm{to} \\ 10240 \\ \\mu sec$$\n"
   ]
  },
  {
   "cell_type": "code",
   "execution_count": 9,
   "metadata": {},
   "outputs": [],
   "source": [
    "phantom = [0,0,0,1,1,1,1,1,1,0];\n",
    "S = zeros(Complex{Float64},10240)\n",
    "μsec = 1e-6\n",
    "t = (1:10240)μsec\n",
    "i = complex(0,1)\n",
    "fieldStregth = 1.5\n",
    "ω = 42.58e6 * fieldStregth\n",
    "T2 = 4000μsec\n",
    "for count = 1:10240\n",
    "    S[count] = sum(phantom*exp(i*2*π*ω*t[count])*exp(-t[count]/T2))\n",
    "end\n",
    "fig = figure(figsize=(8,3));plot(1:10240,real.(S),\"b\")\n",
    "fig = figure(figsize=(8,3));plot(1:10240,imag.(S),\"r\");"
   ]
  },
  {
   "cell_type": "markdown",
   "metadata": {},
   "source": [
    "#### Exercise: Try different values of Larmor frequency and T2 relaxation time constant"
   ]
  },
  {
   "cell_type": "markdown",
   "metadata": {},
   "source": [
    "## Simulating FID signal in the presence of field inhomogeneities"
   ]
  },
  {
   "cell_type": "code",
   "execution_count": 10,
   "metadata": {},
   "outputs": [],
   "source": [
    "phantom = [0,0,0,1,1,1,1,1,1,0];\n",
    "S = zeros(Complex{Float64},10240)\n",
    "μsec = 1e-6\n",
    "t = (1:10240)μsec\n",
    "i = complex(0,1)\n",
    "fieldStregth = 1.5\n",
    "δω = [-20,-10,0,10,20,30,40,50, 60, 70]\n",
    "ω = (42.58e6.+δω) * fieldStregth\n",
    "\n",
    "T2 = 4000μsec\n",
    "for count = 1:10240\n",
    "    S[count] = sum(phantom.*exp.(i*2*π*ω*t[count])*exp(-t[count]/T2))\n",
    "end\n",
    "fig = figure(figsize=(8,3));plot(1:10240,real.(S),\"b\")\n",
    "fig = figure(figsize=(8,3));plot(1:10240,imag.(S),\"r\");"
   ]
  },
  {
   "cell_type": "markdown",
   "metadata": {},
   "source": [
    "## Simulating FID signal in the presence of field inhomogeneities"
   ]
  },
  {
   "cell_type": "code",
   "execution_count": 11,
   "metadata": {},
   "outputs": [],
   "source": [
    "phantom = [0,0,0,1,1,1,1,1,1,0];\n",
    "S = zeros(Complex{Float64},10240)\n",
    "μsec = 1e-6\n",
    "t = (1:10240)μsec\n",
    "i = complex(0,1)\n",
    "fieldStregth = 1.5\n",
    "δω = [-200,-100,0,100,200,300,400,500, 600, 700]\n",
    "ω = (42.58e6.+δω) * fieldStregth\n",
    "\n",
    "T2 = 4000μsec\n",
    "for count = 1:10240\n",
    "    S[count] = sum(phantom.*exp.(i*2*π*ω*t[count])*exp(-t[count]/T2))\n",
    "end\n",
    "fig = figure(figsize=(8,3));plot(1:10240,real.(S),\"b\")\n",
    "fig = figure(figsize=(8,3));plot(1:10240,imag.(S),\"r\");"
   ]
  },
  {
   "attachments": {},
   "cell_type": "markdown",
   "metadata": {},
   "source": [
    "#### Exercise: Simulating FID signals acquired in the rotating frame\n",
    "Specifically, signals would be [demodulated](http://mriquestions.com/signal-squiggles.html\n",
    ") first."
   ]
  }
 ],
 "metadata": {
  "kernelspec": {
   "display_name": "Julia 1.7.2",
   "language": "julia",
   "name": "julia-1.7"
  },
  "language_info": {
   "file_extension": ".jl",
   "mimetype": "application/julia",
   "name": "julia",
   "version": "1.7.2"
  }
 },
 "nbformat": 4,
 "nbformat_minor": 4
}
